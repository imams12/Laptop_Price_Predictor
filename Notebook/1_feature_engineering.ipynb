{
  "nbformat": 4,
  "nbformat_minor": 0,
  "metadata": {
    "colab": {
      "name": "1_feature_engineering.ipynb",
      "provenance": [],
      "collapsed_sections": [],
      "authorship_tag": "ABX9TyN6MO9+BaOozqAz6Ld63XKB"
    },
    "kernelspec": {
      "name": "python3",
      "display_name": "Python 3"
    },
    "language_info": {
      "name": "python"
    }
  },
  "cells": [
    {
      "cell_type": "markdown",
      "metadata": {
        "id": "X4pIcbTa7DKK"
      },
      "source": [
        "#Feature Engineering\n",
        "This is the Feature Engineering"
      ]
    },
    {
      "cell_type": "code",
      "metadata": {
        "colab": {
          "base_uri": "https://localhost:8080/"
        },
        "id": "6qxND6t0s8R5",
        "outputId": "d59ba0df-283f-4cc1-fc53-d3e2f0e36d65"
      },
      "source": [
        "from google.colab import drive\n",
        "drive.mount('/content/gdrive/')"
      ],
      "execution_count": 1,
      "outputs": [
        {
          "output_type": "stream",
          "name": "stdout",
          "text": [
            "Mounted at /content/gdrive/\n"
          ]
        }
      ]
    },
    {
      "cell_type": "code",
      "metadata": {
        "id": "TSTgtFUWuEmO"
      },
      "source": [
        "import pandas as pd\n",
        "import numpy as np\n",
        "import seaborn as sns\n",
        "import matplotlib.pyplot as plt\n",
        "import os"
      ],
      "execution_count": 2,
      "outputs": []
    },
    {
      "cell_type": "code",
      "metadata": {
        "id": "dv5RznAXxnL0"
      },
      "source": [
        "from sklearn.preprocessing import StandardScaler, OneHotEncoder"
      ],
      "execution_count": 31,
      "outputs": []
    },
    {
      "cell_type": "code",
      "metadata": {
        "id": "ZUou8QL0uT21"
      },
      "source": [
        "path = 'gdrive/MyDrive/DATA/Laptop Price/'"
      ],
      "execution_count": 4,
      "outputs": []
    },
    {
      "cell_type": "code",
      "metadata": {
        "colab": {
          "base_uri": "https://localhost:8080/"
        },
        "id": "sWWgp23hune-",
        "outputId": "1415e47c-32b8-4f19-80a8-68d7b62bfdc5"
      },
      "source": [
        "os.listdir(path)"
      ],
      "execution_count": 5,
      "outputs": [
        {
          "output_type": "execute_result",
          "data": {
            "text/plain": [
              "['laptop_price.csv', 'laptop_price_interim.csv']"
            ]
          },
          "metadata": {},
          "execution_count": 5
        }
      ]
    },
    {
      "cell_type": "markdown",
      "metadata": {
        "id": "E2Erb7pP9QTF"
      },
      "source": [
        "##Get the Data"
      ]
    },
    {
      "cell_type": "code",
      "metadata": {
        "id": "F9hcC4dyusT3"
      },
      "source": [
        "df = pd.read_csv(path + 'laptop_price_interim.csv', encoding='latin-1')"
      ],
      "execution_count": 6,
      "outputs": []
    },
    {
      "cell_type": "code",
      "metadata": {
        "colab": {
          "base_uri": "https://localhost:8080/",
          "height": 445
        },
        "id": "hh2qGh4wvBzy",
        "outputId": "7ed9de65-a835-4943-e4ed-62d7bbb14437"
      },
      "source": [
        "df.head()"
      ],
      "execution_count": 7,
      "outputs": [
        {
          "output_type": "execute_result",
          "data": {
            "text/html": [
              "<div>\n",
              "<style scoped>\n",
              "    .dataframe tbody tr th:only-of-type {\n",
              "        vertical-align: middle;\n",
              "    }\n",
              "\n",
              "    .dataframe tbody tr th {\n",
              "        vertical-align: top;\n",
              "    }\n",
              "\n",
              "    .dataframe thead th {\n",
              "        text-align: right;\n",
              "    }\n",
              "</style>\n",
              "<table border=\"1\" class=\"dataframe\">\n",
              "  <thead>\n",
              "    <tr style=\"text-align: right;\">\n",
              "      <th></th>\n",
              "      <th>laptop_ID</th>\n",
              "      <th>Company</th>\n",
              "      <th>Product</th>\n",
              "      <th>TypeName</th>\n",
              "      <th>Inches</th>\n",
              "      <th>ScreenResolution</th>\n",
              "      <th>Cpu</th>\n",
              "      <th>Ram</th>\n",
              "      <th>Memory</th>\n",
              "      <th>Gpu</th>\n",
              "      <th>OpSys</th>\n",
              "      <th>Weight</th>\n",
              "      <th>Price_euros</th>\n",
              "      <th>Inches2</th>\n",
              "      <th>Weight2</th>\n",
              "      <th>Ram2</th>\n",
              "      <th>Product2</th>\n",
              "      <th>Company2</th>\n",
              "    </tr>\n",
              "  </thead>\n",
              "  <tbody>\n",
              "    <tr>\n",
              "      <th>0</th>\n",
              "      <td>1</td>\n",
              "      <td>Apple</td>\n",
              "      <td>MacBook Pro</td>\n",
              "      <td>Ultrabook</td>\n",
              "      <td>13.3</td>\n",
              "      <td>IPS Panel Retina Display 2560x1600</td>\n",
              "      <td>Intel Core i5 2.3GHz</td>\n",
              "      <td>8GB</td>\n",
              "      <td>128GB SSD</td>\n",
              "      <td>Intel Iris Plus Graphics 640</td>\n",
              "      <td>macOS</td>\n",
              "      <td>1.37kg</td>\n",
              "      <td>1339.69</td>\n",
              "      <td>13.3</td>\n",
              "      <td>1.37</td>\n",
              "      <td>8.0</td>\n",
              "      <td>MacBook</td>\n",
              "      <td>Apple</td>\n",
              "    </tr>\n",
              "    <tr>\n",
              "      <th>1</th>\n",
              "      <td>2</td>\n",
              "      <td>Apple</td>\n",
              "      <td>Macbook Air</td>\n",
              "      <td>Ultrabook</td>\n",
              "      <td>13.3</td>\n",
              "      <td>1440x900</td>\n",
              "      <td>Intel Core i5 1.8GHz</td>\n",
              "      <td>8GB</td>\n",
              "      <td>128GB Flash Storage</td>\n",
              "      <td>Intel HD Graphics 6000</td>\n",
              "      <td>macOS</td>\n",
              "      <td>1.34kg</td>\n",
              "      <td>898.94</td>\n",
              "      <td>13.3</td>\n",
              "      <td>1.34</td>\n",
              "      <td>8.0</td>\n",
              "      <td>Macbook</td>\n",
              "      <td>Apple</td>\n",
              "    </tr>\n",
              "    <tr>\n",
              "      <th>2</th>\n",
              "      <td>3</td>\n",
              "      <td>HP</td>\n",
              "      <td>250 G6</td>\n",
              "      <td>Notebook</td>\n",
              "      <td>15.6</td>\n",
              "      <td>Full HD 1920x1080</td>\n",
              "      <td>Intel Core i5 7200U 2.5GHz</td>\n",
              "      <td>8GB</td>\n",
              "      <td>256GB SSD</td>\n",
              "      <td>Intel HD Graphics 620</td>\n",
              "      <td>No OS</td>\n",
              "      <td>1.86kg</td>\n",
              "      <td>575.00</td>\n",
              "      <td>15.6</td>\n",
              "      <td>1.86</td>\n",
              "      <td>8.0</td>\n",
              "      <td>250</td>\n",
              "      <td>HP</td>\n",
              "    </tr>\n",
              "    <tr>\n",
              "      <th>3</th>\n",
              "      <td>4</td>\n",
              "      <td>Apple</td>\n",
              "      <td>MacBook Pro</td>\n",
              "      <td>Ultrabook</td>\n",
              "      <td>15.4</td>\n",
              "      <td>IPS Panel Retina Display 2880x1800</td>\n",
              "      <td>Intel Core i7 2.7GHz</td>\n",
              "      <td>16GB</td>\n",
              "      <td>512GB SSD</td>\n",
              "      <td>AMD Radeon Pro 455</td>\n",
              "      <td>macOS</td>\n",
              "      <td>1.83kg</td>\n",
              "      <td>2537.45</td>\n",
              "      <td>15.4</td>\n",
              "      <td>1.83</td>\n",
              "      <td>16.0</td>\n",
              "      <td>MacBook</td>\n",
              "      <td>Apple</td>\n",
              "    </tr>\n",
              "    <tr>\n",
              "      <th>4</th>\n",
              "      <td>5</td>\n",
              "      <td>Apple</td>\n",
              "      <td>MacBook Pro</td>\n",
              "      <td>Ultrabook</td>\n",
              "      <td>13.3</td>\n",
              "      <td>IPS Panel Retina Display 2560x1600</td>\n",
              "      <td>Intel Core i5 3.1GHz</td>\n",
              "      <td>8GB</td>\n",
              "      <td>256GB SSD</td>\n",
              "      <td>Intel Iris Plus Graphics 650</td>\n",
              "      <td>macOS</td>\n",
              "      <td>1.37kg</td>\n",
              "      <td>1803.60</td>\n",
              "      <td>13.3</td>\n",
              "      <td>1.37</td>\n",
              "      <td>8.0</td>\n",
              "      <td>MacBook</td>\n",
              "      <td>Apple</td>\n",
              "    </tr>\n",
              "  </tbody>\n",
              "</table>\n",
              "</div>"
            ],
            "text/plain": [
              "   laptop_ID Company      Product   TypeName  ...  Weight2  Ram2 Product2 Company2\n",
              "0          1   Apple  MacBook Pro  Ultrabook  ...     1.37   8.0  MacBook    Apple\n",
              "1          2   Apple  Macbook Air  Ultrabook  ...     1.34   8.0  Macbook    Apple\n",
              "2          3      HP       250 G6   Notebook  ...     1.86   8.0      250       HP\n",
              "3          4   Apple  MacBook Pro  Ultrabook  ...     1.83  16.0  MacBook    Apple\n",
              "4          5   Apple  MacBook Pro  Ultrabook  ...     1.37   8.0  MacBook    Apple\n",
              "\n",
              "[5 rows x 18 columns]"
            ]
          },
          "metadata": {},
          "execution_count": 7
        }
      ]
    },
    {
      "cell_type": "code",
      "metadata": {
        "colab": {
          "base_uri": "https://localhost:8080/"
        },
        "id": "kedC-OZwwE79",
        "outputId": "6d4c62df-15fc-46c0-c661-35e4c6b61982"
      },
      "source": [
        "df.shape"
      ],
      "execution_count": 8,
      "outputs": [
        {
          "output_type": "execute_result",
          "data": {
            "text/plain": [
              "(1303, 18)"
            ]
          },
          "metadata": {},
          "execution_count": 8
        }
      ]
    },
    {
      "cell_type": "code",
      "metadata": {
        "colab": {
          "base_uri": "https://localhost:8080/"
        },
        "id": "ubtw-BVExD6g",
        "outputId": "3b3b08f6-fd40-49d3-9639-5dfed5f5bdea"
      },
      "source": [
        "df.columns"
      ],
      "execution_count": 9,
      "outputs": [
        {
          "output_type": "execute_result",
          "data": {
            "text/plain": [
              "Index(['laptop_ID', 'Company', 'Product', 'TypeName', 'Inches',\n",
              "       'ScreenResolution', 'Cpu', 'Ram', 'Memory', 'Gpu', 'OpSys', 'Weight',\n",
              "       'Price_euros', 'Inches2', 'Weight2', 'Ram2', 'Product2', 'Company2'],\n",
              "      dtype='object')"
            ]
          },
          "metadata": {},
          "execution_count": 9
        }
      ]
    },
    {
      "cell_type": "code",
      "metadata": {
        "id": "4N2IrLFhwl_r"
      },
      "source": [
        "#### predictor\n",
        "col_num =[ 'Inches2', 'Weight2','Ram2'] ## --> pure number\n",
        "col_cat =['Company2','Product2','TypeName','OpSys'] ## --> categorical\n",
        "col_campuran = ['ScreenResolution','Cpu','Memory','Gpu'] ## --> bisa diparsing (dipisah stringnya)\n",
        "other_col=list(set(df.columns)-set(col_num+col_cat+col_campuran)) ## --> others"
      ],
      "execution_count": 10,
      "outputs": []
    },
    {
      "cell_type": "code",
      "metadata": {
        "colab": {
          "base_uri": "https://localhost:8080/"
        },
        "id": "jsXJLdDeyuVZ",
        "outputId": "0810083c-8cc4-46bf-ff7b-81591535c8ee"
      },
      "source": [
        "other_col"
      ],
      "execution_count": 11,
      "outputs": [
        {
          "output_type": "execute_result",
          "data": {
            "text/plain": [
              "['Company', 'Product', 'Price_euros', 'Weight', 'laptop_ID', 'Inches', 'Ram']"
            ]
          },
          "metadata": {},
          "execution_count": 11
        }
      ]
    },
    {
      "cell_type": "code",
      "metadata": {
        "id": "EqZv-M5MAIgz"
      },
      "source": [
        "## Predictor --> column2/ feature2 yang digunakan untuk memprediksi"
      ],
      "execution_count": 12,
      "outputs": []
    },
    {
      "cell_type": "code",
      "metadata": {
        "id": "ylbviwTRywN2"
      },
      "source": [
        "col_target=['Price_euros']"
      ],
      "execution_count": 13,
      "outputs": []
    },
    {
      "cell_type": "code",
      "metadata": {
        "id": "YoE8jJS1l8fb"
      },
      "source": [
        ""
      ],
      "execution_count": 13,
      "outputs": []
    },
    {
      "cell_type": "markdown",
      "metadata": {
        "id": "Z0xvzyxgmzpD"
      },
      "source": [
        "##Train Test"
      ]
    },
    {
      "cell_type": "code",
      "metadata": {
        "colab": {
          "base_uri": "https://localhost:8080/"
        },
        "id": "3vnXNqTSnUXO",
        "outputId": "9a012790-4979-46b1-f4aa-f5987adb715f"
      },
      "source": [
        "df.shape[0]*0.8"
      ],
      "execution_count": 14,
      "outputs": [
        {
          "output_type": "execute_result",
          "data": {
            "text/plain": [
              "1042.4"
            ]
          },
          "metadata": {},
          "execution_count": 14
        }
      ]
    },
    {
      "cell_type": "code",
      "metadata": {
        "id": "92efefH6m2go"
      },
      "source": [
        "id_train = df.sample(1042, random_state=145)['laptop_ID'].values"
      ],
      "execution_count": 15,
      "outputs": []
    },
    {
      "cell_type": "code",
      "metadata": {
        "id": "qvYvxLYZnhye"
      },
      "source": [
        "df['is_train']=df.laptop_ID.isin(id_train).astype(int)"
      ],
      "execution_count": 16,
      "outputs": []
    },
    {
      "cell_type": "code",
      "metadata": {
        "id": "l1xmbr6ooRMb"
      },
      "source": [
        ""
      ],
      "execution_count": 16,
      "outputs": []
    },
    {
      "cell_type": "markdown",
      "metadata": {
        "id": "AgaDrVhSoqY0"
      },
      "source": [
        "##Feature Campuran"
      ]
    },
    {
      "cell_type": "code",
      "metadata": {
        "colab": {
          "base_uri": "https://localhost:8080/",
          "height": 297
        },
        "id": "l61fulGsoncM",
        "outputId": "e682bcb6-3801-4006-b536-f4a9c5a5f4b6"
      },
      "source": [
        "df[col_campuran].sample(8)"
      ],
      "execution_count": 17,
      "outputs": [
        {
          "output_type": "execute_result",
          "data": {
            "text/html": [
              "<div>\n",
              "<style scoped>\n",
              "    .dataframe tbody tr th:only-of-type {\n",
              "        vertical-align: middle;\n",
              "    }\n",
              "\n",
              "    .dataframe tbody tr th {\n",
              "        vertical-align: top;\n",
              "    }\n",
              "\n",
              "    .dataframe thead th {\n",
              "        text-align: right;\n",
              "    }\n",
              "</style>\n",
              "<table border=\"1\" class=\"dataframe\">\n",
              "  <thead>\n",
              "    <tr style=\"text-align: right;\">\n",
              "      <th></th>\n",
              "      <th>ScreenResolution</th>\n",
              "      <th>Cpu</th>\n",
              "      <th>Memory</th>\n",
              "      <th>Gpu</th>\n",
              "    </tr>\n",
              "  </thead>\n",
              "  <tbody>\n",
              "    <tr>\n",
              "      <th>689</th>\n",
              "      <td>1366x768</td>\n",
              "      <td>Intel Celeron Dual Core 3855U 1.6GHz</td>\n",
              "      <td>500GB HDD</td>\n",
              "      <td>Intel HD Graphics 510</td>\n",
              "    </tr>\n",
              "    <tr>\n",
              "      <th>121</th>\n",
              "      <td>Full HD 1920x1080</td>\n",
              "      <td>Intel Core i7 7700HQ 2.8GHz</td>\n",
              "      <td>256GB SSD +  2TB HDD</td>\n",
              "      <td>Nvidia GeForce GTX 1070</td>\n",
              "    </tr>\n",
              "    <tr>\n",
              "      <th>1150</th>\n",
              "      <td>1366x768</td>\n",
              "      <td>Intel Core i3 6006U 2.0GHz</td>\n",
              "      <td>1TB HDD</td>\n",
              "      <td>Intel HD Graphics 520</td>\n",
              "    </tr>\n",
              "    <tr>\n",
              "      <th>372</th>\n",
              "      <td>IPS Panel Full HD 1920x1080</td>\n",
              "      <td>AMD Ryzen 1700 3GHz</td>\n",
              "      <td>256GB SSD +  1TB HDD</td>\n",
              "      <td>AMD Radeon RX 580</td>\n",
              "    </tr>\n",
              "    <tr>\n",
              "      <th>216</th>\n",
              "      <td>1600x900</td>\n",
              "      <td>Intel Core i5 7200U 2.5GHz</td>\n",
              "      <td>1TB HDD</td>\n",
              "      <td>Nvidia GeForce GTX 940MX</td>\n",
              "    </tr>\n",
              "    <tr>\n",
              "      <th>540</th>\n",
              "      <td>Quad HD+ / Touchscreen 3200x1800</td>\n",
              "      <td>Intel Core i7 8550U 1.8GHz</td>\n",
              "      <td>256GB SSD</td>\n",
              "      <td>Intel UHD Graphics 620</td>\n",
              "    </tr>\n",
              "    <tr>\n",
              "      <th>354</th>\n",
              "      <td>IPS Panel Full HD 1920x1080</td>\n",
              "      <td>Intel Core i7 6500U 2.5GHz</td>\n",
              "      <td>512GB SSD</td>\n",
              "      <td>Nvidia GeForce 930M</td>\n",
              "    </tr>\n",
              "    <tr>\n",
              "      <th>393</th>\n",
              "      <td>Full HD 1920x1080</td>\n",
              "      <td>Intel Core i7 7700HQ 2.8GHz</td>\n",
              "      <td>256GB SSD</td>\n",
              "      <td>Nvidia GeForce GTX 1050 Ti</td>\n",
              "    </tr>\n",
              "  </tbody>\n",
              "</table>\n",
              "</div>"
            ],
            "text/plain": [
              "                      ScreenResolution  ...                         Gpu\n",
              "689                           1366x768  ...       Intel HD Graphics 510\n",
              "121                  Full HD 1920x1080  ...     Nvidia GeForce GTX 1070\n",
              "1150                          1366x768  ...       Intel HD Graphics 520\n",
              "372        IPS Panel Full HD 1920x1080  ...           AMD Radeon RX 580\n",
              "216                           1600x900  ...    Nvidia GeForce GTX 940MX\n",
              "540   Quad HD+ / Touchscreen 3200x1800  ...      Intel UHD Graphics 620\n",
              "354        IPS Panel Full HD 1920x1080  ...         Nvidia GeForce 930M\n",
              "393                  Full HD 1920x1080  ...  Nvidia GeForce GTX 1050 Ti\n",
              "\n",
              "[8 rows x 4 columns]"
            ]
          },
          "metadata": {},
          "execution_count": 17
        }
      ]
    },
    {
      "cell_type": "code",
      "metadata": {
        "id": "Zp_Xma3vozge"
      },
      "source": [
        "## Memory --> SSD or not\n",
        "## ScreenResolution --> Full HD, IPS Panel, common\n",
        "## Cpu --> berapa GHz"
      ],
      "execution_count": 18,
      "outputs": []
    },
    {
      "cell_type": "code",
      "metadata": {
        "id": "qrDtxTtbs1y2"
      },
      "source": [
        "def screen_func(x):\n",
        "  x1=x.lower()\n",
        "  if 'full hd' in x1:\n",
        "    return 2\n",
        "  elif 'ips panel' in x1:\n",
        "    return 1\n",
        "  else:\n",
        "    return 0"
      ],
      "execution_count": 19,
      "outputs": []
    },
    {
      "cell_type": "code",
      "metadata": {
        "id": "CokCLwucsWZ0"
      },
      "source": [
        "df['is_ssd']=df.Memory.apply(lambda x: 1 if 'SSD' in x else 0).astype(int)\n",
        "df['screen_type']=df.ScreenResolution.apply(screen_func).astype(float)\n",
        "df['cpu_size']=df.Cpu.apply(lambda x: x[-6:-3].replace(' ','').replace('U2','2').replace('P3','3')).astype(float)"
      ],
      "execution_count": 20,
      "outputs": []
    },
    {
      "cell_type": "code",
      "metadata": {
        "id": "tl3_2bedudVS"
      },
      "source": [
        ""
      ],
      "execution_count": 20,
      "outputs": []
    },
    {
      "cell_type": "code",
      "metadata": {
        "id": "flZtq-dbub5L"
      },
      "source": [
        "col_num =[ 'Inches2', 'Weight2','Ram2','cpu_size','is_ssd','screen_type'] ## --> pure number\n",
        "col_cat =['Company2','Product2','TypeName','OpSys'] ## --> categorical"
      ],
      "execution_count": 21,
      "outputs": []
    },
    {
      "cell_type": "code",
      "metadata": {
        "id": "2swOcF30vTOK"
      },
      "source": [
        ""
      ],
      "execution_count": 21,
      "outputs": []
    },
    {
      "cell_type": "code",
      "metadata": {
        "id": "OJah0Ftqu6ns"
      },
      "source": [
        "#cat='is_ssd'\n",
        "#plt.figure(figsize=(15,5))\n",
        "#sns.boxplot(data = df, y=col_target[0], x=cat)\n",
        "#plt.show()"
      ],
      "execution_count": 22,
      "outputs": []
    },
    {
      "cell_type": "code",
      "metadata": {
        "id": "F4lFegmGvkzd"
      },
      "source": [
        ""
      ],
      "execution_count": 22,
      "outputs": []
    },
    {
      "cell_type": "markdown",
      "metadata": {
        "id": "fa5W37eWw9hz"
      },
      "source": [
        "##Col Numeric Transformation"
      ]
    },
    {
      "cell_type": "code",
      "metadata": {
        "colab": {
          "base_uri": "https://localhost:8080/"
        },
        "id": "K1Vm8phkxC0I",
        "outputId": "33294032-de30-4fa3-a745-c956ebc19048"
      },
      "source": [
        "XX = df[df.is_train==1][col_num]\n",
        "\n",
        "SS_scaler = StandardScaler()\n",
        "SS_scaler.fit(XX)"
      ],
      "execution_count": 23,
      "outputs": [
        {
          "output_type": "execute_result",
          "data": {
            "text/plain": [
              "StandardScaler(copy=True, with_mean=True, with_std=True)"
            ]
          },
          "metadata": {},
          "execution_count": 23
        }
      ]
    },
    {
      "cell_type": "code",
      "metadata": {
        "id": "2vNcCJFixclD"
      },
      "source": [
        "col_num2 =[c+'SS' for c in col_num]\n",
        "df2_num = pd.DataFrame(SS_scaler.transform(df[col_num]), columns=col_num2)\n",
        "df2_num['laptop_ID']=df['laptop_ID']\n",
        "df2_num['is_train']=df['is_train']"
      ],
      "execution_count": 60,
      "outputs": []
    },
    {
      "cell_type": "code",
      "metadata": {
        "colab": {
          "base_uri": "https://localhost:8080/"
        },
        "id": "CV72ijQ3TXgc",
        "outputId": "0241f7d9-b831-419e-97d5-1969e82831c8"
      },
      "source": [
        "col_num2"
      ],
      "execution_count": 61,
      "outputs": [
        {
          "output_type": "execute_result",
          "data": {
            "text/plain": [
              "['Inches2SS', 'Weight2SS', 'Ram2SS', 'cpu_sizeSS', 'is_ssdSS', 'screen_typeSS']"
            ]
          },
          "metadata": {},
          "execution_count": 61
        }
      ]
    },
    {
      "cell_type": "code",
      "metadata": {
        "id": "dL4jz_fVy3iZ"
      },
      "source": [
        ""
      ],
      "execution_count": 61,
      "outputs": []
    },
    {
      "cell_type": "markdown",
      "metadata": {
        "id": "MpIZEsEtTPgH"
      },
      "source": [
        "## Col Categoric"
      ]
    },
    {
      "cell_type": "code",
      "metadata": {
        "id": "IMTbIV5vzglt",
        "colab": {
          "base_uri": "https://localhost:8080/"
        },
        "outputId": "c224f6fb-d224-4aee-9ff1-e4f3e77784da"
      },
      "source": [
        "col_cat"
      ],
      "execution_count": 62,
      "outputs": [
        {
          "output_type": "execute_result",
          "data": {
            "text/plain": [
              "['Company2', 'Product2', 'TypeName', 'OpSys']"
            ]
          },
          "metadata": {},
          "execution_count": 62
        }
      ]
    },
    {
      "cell_type": "code",
      "metadata": {
        "id": "J9HLpXR9zkEZ",
        "colab": {
          "base_uri": "https://localhost:8080/",
          "height": 173
        },
        "outputId": "40cca794-52d6-4d11-c776-5e2d9183939c"
      },
      "source": [
        "df[col_cat].describe()"
      ],
      "execution_count": 63,
      "outputs": [
        {
          "output_type": "execute_result",
          "data": {
            "text/html": [
              "<div>\n",
              "<style scoped>\n",
              "    .dataframe tbody tr th:only-of-type {\n",
              "        vertical-align: middle;\n",
              "    }\n",
              "\n",
              "    .dataframe tbody tr th {\n",
              "        vertical-align: top;\n",
              "    }\n",
              "\n",
              "    .dataframe thead th {\n",
              "        text-align: right;\n",
              "    }\n",
              "</style>\n",
              "<table border=\"1\" class=\"dataframe\">\n",
              "  <thead>\n",
              "    <tr style=\"text-align: right;\">\n",
              "      <th></th>\n",
              "      <th>Company2</th>\n",
              "      <th>Product2</th>\n",
              "      <th>TypeName</th>\n",
              "      <th>OpSys</th>\n",
              "    </tr>\n",
              "  </thead>\n",
              "  <tbody>\n",
              "    <tr>\n",
              "      <th>count</th>\n",
              "      <td>1303</td>\n",
              "      <td>1303</td>\n",
              "      <td>1303</td>\n",
              "      <td>1303</td>\n",
              "    </tr>\n",
              "    <tr>\n",
              "      <th>unique</th>\n",
              "      <td>9</td>\n",
              "      <td>226</td>\n",
              "      <td>6</td>\n",
              "      <td>9</td>\n",
              "    </tr>\n",
              "    <tr>\n",
              "      <th>top</th>\n",
              "      <td>Lenovo</td>\n",
              "      <td>Inspiron</td>\n",
              "      <td>Notebook</td>\n",
              "      <td>Windows 10</td>\n",
              "    </tr>\n",
              "    <tr>\n",
              "      <th>freq</th>\n",
              "      <td>297</td>\n",
              "      <td>141</td>\n",
              "      <td>727</td>\n",
              "      <td>1072</td>\n",
              "    </tr>\n",
              "  </tbody>\n",
              "</table>\n",
              "</div>"
            ],
            "text/plain": [
              "       Company2  Product2  TypeName       OpSys\n",
              "count      1303      1303      1303        1303\n",
              "unique        9       226         6           9\n",
              "top      Lenovo  Inspiron  Notebook  Windows 10\n",
              "freq        297       141       727        1072"
            ]
          },
          "metadata": {},
          "execution_count": 63
        }
      ]
    },
    {
      "cell_type": "code",
      "metadata": {
        "id": "Ta153q_UTkiF"
      },
      "source": [
        "col_cat_temp=['Company2',\t'TypeName',\t'OpSys']\n",
        "cat = col_cat_temp[1]"
      ],
      "execution_count": 64,
      "outputs": []
    },
    {
      "cell_type": "code",
      "metadata": {
        "id": "BAdh7ZZBUBry"
      },
      "source": [
        "col_cat2=[]\n",
        "df2_cat = []\n",
        "for cat in col_cat_temp:\n",
        "  OH = OneHotEncoder()\n",
        "  XX = df[cat].values.reshape(-1,1)\n",
        "  OH.fit(XX)\n",
        "\n",
        "  col_temp = [cat+' '+c for c in OH.categories_]\n",
        "  df_temp = pd.DataFrame(OH.transform(XX).toarray(), columns= list(col_temp[0]))\n",
        "  col_cat2 += list(col_temp[0])\n",
        "  df2_cat.append(df_temp)"
      ],
      "execution_count": 73,
      "outputs": []
    },
    {
      "cell_type": "code",
      "metadata": {
        "id": "Kd1j2Z9UUFeq"
      },
      "source": [
        "df2_cat = pd.concat(df2_cat, axis=1)\n",
        "df2_cat['laptop_ID'] = df['laptop_ID']\n",
        "# df2_cat['is_train'] = df['is_train']"
      ],
      "execution_count": 74,
      "outputs": []
    },
    {
      "cell_type": "code",
      "metadata": {
        "id": "MstkcdiXZ1ej"
      },
      "source": [
        ""
      ],
      "execution_count": 74,
      "outputs": []
    },
    {
      "cell_type": "markdown",
      "metadata": {
        "id": "yDTyWR8pZ4H3"
      },
      "source": [
        "## Summary Feature Engineering"
      ]
    },
    {
      "cell_type": "code",
      "metadata": {
        "colab": {
          "base_uri": "https://localhost:8080/"
        },
        "id": "rzjqTTiUZ27_",
        "outputId": "123404b1-32a6-46ee-a87b-69f79b53b848"
      },
      "source": [
        "col_num2"
      ],
      "execution_count": 75,
      "outputs": [
        {
          "output_type": "execute_result",
          "data": {
            "text/plain": [
              "['Inches2SS', 'Weight2SS', 'Ram2SS', 'cpu_sizeSS', 'is_ssdSS', 'screen_typeSS']"
            ]
          },
          "metadata": {},
          "execution_count": 75
        }
      ]
    },
    {
      "cell_type": "code",
      "metadata": {
        "colab": {
          "base_uri": "https://localhost:8080/"
        },
        "id": "CCZjACJsY0JS",
        "outputId": "c0a8e2dc-c151-48a6-efa4-7930ee194091"
      },
      "source": [
        "col_cat2"
      ],
      "execution_count": 76,
      "outputs": [
        {
          "output_type": "execute_result",
          "data": {
            "text/plain": [
              "['Company2 Acer',\n",
              " 'Company2 Apple',\n",
              " 'Company2 Asus',\n",
              " 'Company2 Dell',\n",
              " 'Company2 HP',\n",
              " 'Company2 Lenovo',\n",
              " 'Company2 MSI',\n",
              " 'Company2 Toshiba',\n",
              " 'Company2 others',\n",
              " 'TypeName 2 in 1 Convertible',\n",
              " 'TypeName Gaming',\n",
              " 'TypeName Netbook',\n",
              " 'TypeName Notebook',\n",
              " 'TypeName Ultrabook',\n",
              " 'TypeName Workstation',\n",
              " 'OpSys Android',\n",
              " 'OpSys Chrome OS',\n",
              " 'OpSys Linux',\n",
              " 'OpSys Mac OS X',\n",
              " 'OpSys No OS',\n",
              " 'OpSys Windows 10',\n",
              " 'OpSys Windows 10 S',\n",
              " 'OpSys Windows 7',\n",
              " 'OpSys macOS']"
            ]
          },
          "metadata": {},
          "execution_count": 76
        }
      ]
    },
    {
      "cell_type": "code",
      "metadata": {
        "colab": {
          "base_uri": "https://localhost:8080/"
        },
        "id": "h19BjR__Z_xC",
        "outputId": "11fe23b5-183f-4416-f03e-5de11fbe0fc0"
      },
      "source": [
        "col_target"
      ],
      "execution_count": 77,
      "outputs": [
        {
          "output_type": "execute_result",
          "data": {
            "text/plain": [
              "['Price_euros']"
            ]
          },
          "metadata": {},
          "execution_count": 77
        }
      ]
    },
    {
      "cell_type": "code",
      "metadata": {
        "colab": {
          "base_uri": "https://localhost:8080/",
          "height": 258
        },
        "id": "qmx7KisSaIz9",
        "outputId": "741eb75a-b4e4-4a32-df0d-748100550d81"
      },
      "source": [
        "df2_cat.head()"
      ],
      "execution_count": 78,
      "outputs": [
        {
          "output_type": "execute_result",
          "data": {
            "text/html": [
              "<div>\n",
              "<style scoped>\n",
              "    .dataframe tbody tr th:only-of-type {\n",
              "        vertical-align: middle;\n",
              "    }\n",
              "\n",
              "    .dataframe tbody tr th {\n",
              "        vertical-align: top;\n",
              "    }\n",
              "\n",
              "    .dataframe thead th {\n",
              "        text-align: right;\n",
              "    }\n",
              "</style>\n",
              "<table border=\"1\" class=\"dataframe\">\n",
              "  <thead>\n",
              "    <tr style=\"text-align: right;\">\n",
              "      <th></th>\n",
              "      <th>Company2 Acer</th>\n",
              "      <th>Company2 Apple</th>\n",
              "      <th>Company2 Asus</th>\n",
              "      <th>Company2 Dell</th>\n",
              "      <th>Company2 HP</th>\n",
              "      <th>Company2 Lenovo</th>\n",
              "      <th>Company2 MSI</th>\n",
              "      <th>Company2 Toshiba</th>\n",
              "      <th>Company2 others</th>\n",
              "      <th>TypeName 2 in 1 Convertible</th>\n",
              "      <th>TypeName Gaming</th>\n",
              "      <th>TypeName Netbook</th>\n",
              "      <th>TypeName Notebook</th>\n",
              "      <th>TypeName Ultrabook</th>\n",
              "      <th>TypeName Workstation</th>\n",
              "      <th>OpSys Android</th>\n",
              "      <th>OpSys Chrome OS</th>\n",
              "      <th>OpSys Linux</th>\n",
              "      <th>OpSys Mac OS X</th>\n",
              "      <th>OpSys No OS</th>\n",
              "      <th>OpSys Windows 10</th>\n",
              "      <th>OpSys Windows 10 S</th>\n",
              "      <th>OpSys Windows 7</th>\n",
              "      <th>OpSys macOS</th>\n",
              "      <th>laptop_ID</th>\n",
              "    </tr>\n",
              "  </thead>\n",
              "  <tbody>\n",
              "    <tr>\n",
              "      <th>0</th>\n",
              "      <td>0.0</td>\n",
              "      <td>1.0</td>\n",
              "      <td>0.0</td>\n",
              "      <td>0.0</td>\n",
              "      <td>0.0</td>\n",
              "      <td>0.0</td>\n",
              "      <td>0.0</td>\n",
              "      <td>0.0</td>\n",
              "      <td>0.0</td>\n",
              "      <td>0.0</td>\n",
              "      <td>0.0</td>\n",
              "      <td>0.0</td>\n",
              "      <td>0.0</td>\n",
              "      <td>1.0</td>\n",
              "      <td>0.0</td>\n",
              "      <td>0.0</td>\n",
              "      <td>0.0</td>\n",
              "      <td>0.0</td>\n",
              "      <td>0.0</td>\n",
              "      <td>0.0</td>\n",
              "      <td>0.0</td>\n",
              "      <td>0.0</td>\n",
              "      <td>0.0</td>\n",
              "      <td>1.0</td>\n",
              "      <td>1</td>\n",
              "    </tr>\n",
              "    <tr>\n",
              "      <th>1</th>\n",
              "      <td>0.0</td>\n",
              "      <td>1.0</td>\n",
              "      <td>0.0</td>\n",
              "      <td>0.0</td>\n",
              "      <td>0.0</td>\n",
              "      <td>0.0</td>\n",
              "      <td>0.0</td>\n",
              "      <td>0.0</td>\n",
              "      <td>0.0</td>\n",
              "      <td>0.0</td>\n",
              "      <td>0.0</td>\n",
              "      <td>0.0</td>\n",
              "      <td>0.0</td>\n",
              "      <td>1.0</td>\n",
              "      <td>0.0</td>\n",
              "      <td>0.0</td>\n",
              "      <td>0.0</td>\n",
              "      <td>0.0</td>\n",
              "      <td>0.0</td>\n",
              "      <td>0.0</td>\n",
              "      <td>0.0</td>\n",
              "      <td>0.0</td>\n",
              "      <td>0.0</td>\n",
              "      <td>1.0</td>\n",
              "      <td>2</td>\n",
              "    </tr>\n",
              "    <tr>\n",
              "      <th>2</th>\n",
              "      <td>0.0</td>\n",
              "      <td>0.0</td>\n",
              "      <td>0.0</td>\n",
              "      <td>0.0</td>\n",
              "      <td>1.0</td>\n",
              "      <td>0.0</td>\n",
              "      <td>0.0</td>\n",
              "      <td>0.0</td>\n",
              "      <td>0.0</td>\n",
              "      <td>0.0</td>\n",
              "      <td>0.0</td>\n",
              "      <td>0.0</td>\n",
              "      <td>1.0</td>\n",
              "      <td>0.0</td>\n",
              "      <td>0.0</td>\n",
              "      <td>0.0</td>\n",
              "      <td>0.0</td>\n",
              "      <td>0.0</td>\n",
              "      <td>0.0</td>\n",
              "      <td>1.0</td>\n",
              "      <td>0.0</td>\n",
              "      <td>0.0</td>\n",
              "      <td>0.0</td>\n",
              "      <td>0.0</td>\n",
              "      <td>3</td>\n",
              "    </tr>\n",
              "    <tr>\n",
              "      <th>3</th>\n",
              "      <td>0.0</td>\n",
              "      <td>1.0</td>\n",
              "      <td>0.0</td>\n",
              "      <td>0.0</td>\n",
              "      <td>0.0</td>\n",
              "      <td>0.0</td>\n",
              "      <td>0.0</td>\n",
              "      <td>0.0</td>\n",
              "      <td>0.0</td>\n",
              "      <td>0.0</td>\n",
              "      <td>0.0</td>\n",
              "      <td>0.0</td>\n",
              "      <td>0.0</td>\n",
              "      <td>1.0</td>\n",
              "      <td>0.0</td>\n",
              "      <td>0.0</td>\n",
              "      <td>0.0</td>\n",
              "      <td>0.0</td>\n",
              "      <td>0.0</td>\n",
              "      <td>0.0</td>\n",
              "      <td>0.0</td>\n",
              "      <td>0.0</td>\n",
              "      <td>0.0</td>\n",
              "      <td>1.0</td>\n",
              "      <td>4</td>\n",
              "    </tr>\n",
              "    <tr>\n",
              "      <th>4</th>\n",
              "      <td>0.0</td>\n",
              "      <td>1.0</td>\n",
              "      <td>0.0</td>\n",
              "      <td>0.0</td>\n",
              "      <td>0.0</td>\n",
              "      <td>0.0</td>\n",
              "      <td>0.0</td>\n",
              "      <td>0.0</td>\n",
              "      <td>0.0</td>\n",
              "      <td>0.0</td>\n",
              "      <td>0.0</td>\n",
              "      <td>0.0</td>\n",
              "      <td>0.0</td>\n",
              "      <td>1.0</td>\n",
              "      <td>0.0</td>\n",
              "      <td>0.0</td>\n",
              "      <td>0.0</td>\n",
              "      <td>0.0</td>\n",
              "      <td>0.0</td>\n",
              "      <td>0.0</td>\n",
              "      <td>0.0</td>\n",
              "      <td>0.0</td>\n",
              "      <td>0.0</td>\n",
              "      <td>1.0</td>\n",
              "      <td>5</td>\n",
              "    </tr>\n",
              "  </tbody>\n",
              "</table>\n",
              "</div>"
            ],
            "text/plain": [
              "   Company2 Acer  Company2 Apple  ...  OpSys macOS  laptop_ID\n",
              "0            0.0             1.0  ...          1.0          1\n",
              "1            0.0             1.0  ...          1.0          2\n",
              "2            0.0             0.0  ...          0.0          3\n",
              "3            0.0             1.0  ...          1.0          4\n",
              "4            0.0             1.0  ...          1.0          5\n",
              "\n",
              "[5 rows x 25 columns]"
            ]
          },
          "metadata": {},
          "execution_count": 78
        }
      ]
    },
    {
      "cell_type": "code",
      "metadata": {
        "colab": {
          "base_uri": "https://localhost:8080/",
          "height": 204
        },
        "id": "_QWXgj9ZaWyq",
        "outputId": "568f1058-c125-4157-c360-3bec6ffa22fa"
      },
      "source": [
        "df2_num.head()"
      ],
      "execution_count": 79,
      "outputs": [
        {
          "output_type": "execute_result",
          "data": {
            "text/html": [
              "<div>\n",
              "<style scoped>\n",
              "    .dataframe tbody tr th:only-of-type {\n",
              "        vertical-align: middle;\n",
              "    }\n",
              "\n",
              "    .dataframe tbody tr th {\n",
              "        vertical-align: top;\n",
              "    }\n",
              "\n",
              "    .dataframe thead th {\n",
              "        text-align: right;\n",
              "    }\n",
              "</style>\n",
              "<table border=\"1\" class=\"dataframe\">\n",
              "  <thead>\n",
              "    <tr style=\"text-align: right;\">\n",
              "      <th></th>\n",
              "      <th>Inches2SS</th>\n",
              "      <th>Weight2SS</th>\n",
              "      <th>Ram2SS</th>\n",
              "      <th>cpu_sizeSS</th>\n",
              "      <th>is_ssdSS</th>\n",
              "      <th>screen_typeSS</th>\n",
              "      <th>laptop_ID</th>\n",
              "      <th>is_train</th>\n",
              "    </tr>\n",
              "  </thead>\n",
              "  <tbody>\n",
              "    <tr>\n",
              "      <th>0</th>\n",
              "      <td>-1.231169</td>\n",
              "      <td>-1.014448</td>\n",
              "      <td>-0.087182</td>\n",
              "      <td>0.042451</td>\n",
              "      <td>0.745133</td>\n",
              "      <td>-0.385227</td>\n",
              "      <td>1</td>\n",
              "      <td>1</td>\n",
              "    </tr>\n",
              "    <tr>\n",
              "      <th>1</th>\n",
              "      <td>-1.231169</td>\n",
              "      <td>-1.059224</td>\n",
              "      <td>-0.087182</td>\n",
              "      <td>-0.881391</td>\n",
              "      <td>-1.342041</td>\n",
              "      <td>-1.487991</td>\n",
              "      <td>2</td>\n",
              "      <td>1</td>\n",
              "    </tr>\n",
              "    <tr>\n",
              "      <th>2</th>\n",
              "      <td>0.398827</td>\n",
              "      <td>-0.283106</td>\n",
              "      <td>-0.087182</td>\n",
              "      <td>0.411987</td>\n",
              "      <td>0.745133</td>\n",
              "      <td>0.717538</td>\n",
              "      <td>3</td>\n",
              "      <td>1</td>\n",
              "    </tr>\n",
              "    <tr>\n",
              "      <th>3</th>\n",
              "      <td>0.257089</td>\n",
              "      <td>-0.327882</td>\n",
              "      <td>1.520678</td>\n",
              "      <td>0.781524</td>\n",
              "      <td>0.745133</td>\n",
              "      <td>-0.385227</td>\n",
              "      <td>4</td>\n",
              "      <td>1</td>\n",
              "    </tr>\n",
              "    <tr>\n",
              "      <th>4</th>\n",
              "      <td>-1.231169</td>\n",
              "      <td>-1.014448</td>\n",
              "      <td>-0.087182</td>\n",
              "      <td>1.520597</td>\n",
              "      <td>0.745133</td>\n",
              "      <td>-0.385227</td>\n",
              "      <td>5</td>\n",
              "      <td>1</td>\n",
              "    </tr>\n",
              "  </tbody>\n",
              "</table>\n",
              "</div>"
            ],
            "text/plain": [
              "   Inches2SS  Weight2SS    Ram2SS  ...  screen_typeSS  laptop_ID  is_train\n",
              "0  -1.231169  -1.014448 -0.087182  ...      -0.385227          1         1\n",
              "1  -1.231169  -1.059224 -0.087182  ...      -1.487991          2         1\n",
              "2   0.398827  -0.283106 -0.087182  ...       0.717538          3         1\n",
              "3   0.257089  -0.327882  1.520678  ...      -0.385227          4         1\n",
              "4  -1.231169  -1.014448 -0.087182  ...      -0.385227          5         1\n",
              "\n",
              "[5 rows x 8 columns]"
            ]
          },
          "metadata": {},
          "execution_count": 79
        }
      ]
    },
    {
      "cell_type": "code",
      "metadata": {
        "id": "mo0G6W28acfn"
      },
      "source": [
        "df_interim = pd.merge(df2_num, df2_cat, on ='laptop_ID', how='left')\n",
        "df_interim = pd.merge(df_interim, df[['laptop_ID']+col_target], on ='laptop_ID', how='left')"
      ],
      "execution_count": 81,
      "outputs": []
    },
    {
      "cell_type": "code",
      "metadata": {
        "colab": {
          "base_uri": "https://localhost:8080/"
        },
        "id": "CfH8qIujc3XL",
        "outputId": "1dec98ce-b1f4-49ef-bdb0-eb8eaaa8e5ed"
      },
      "source": [
        "df_interim.columns"
      ],
      "execution_count": 82,
      "outputs": [
        {
          "output_type": "execute_result",
          "data": {
            "text/plain": [
              "Index(['Inches2SS', 'Weight2SS', 'Ram2SS', 'cpu_sizeSS', 'is_ssdSS',\n",
              "       'screen_typeSS', 'laptop_ID', 'is_train', 'Company2 Acer',\n",
              "       'Company2 Apple', 'Company2 Asus', 'Company2 Dell', 'Company2 HP',\n",
              "       'Company2 Lenovo', 'Company2 MSI', 'Company2 Toshiba',\n",
              "       'Company2 others', 'TypeName 2 in 1 Convertible', 'TypeName Gaming',\n",
              "       'TypeName Netbook', 'TypeName Notebook', 'TypeName Ultrabook',\n",
              "       'TypeName Workstation', 'OpSys Android', 'OpSys Chrome OS',\n",
              "       'OpSys Linux', 'OpSys Mac OS X', 'OpSys No OS', 'OpSys Windows 10',\n",
              "       'OpSys Windows 10 S', 'OpSys Windows 7', 'OpSys macOS', 'Price_euros'],\n",
              "      dtype='object')"
            ]
          },
          "metadata": {},
          "execution_count": 82
        }
      ]
    },
    {
      "cell_type": "code",
      "metadata": {
        "id": "ztkWfo2Ndg8g"
      },
      "source": [
        "df_interim.to_csv(path + 'data_interim.csv', index=False)"
      ],
      "execution_count": 83,
      "outputs": []
    },
    {
      "cell_type": "code",
      "metadata": {
        "colab": {
          "base_uri": "https://localhost:8080/"
        },
        "id": "rK4scam6d4RC",
        "outputId": "02ce2448-96df-4e0d-b6fe-4921a207fade"
      },
      "source": [
        "os.listdir(path)"
      ],
      "execution_count": 84,
      "outputs": [
        {
          "output_type": "execute_result",
          "data": {
            "text/plain": [
              "['laptop_price.csv', 'laptop_price_interim.csv', 'data_interim.csv']"
            ]
          },
          "metadata": {},
          "execution_count": 84
        }
      ]
    },
    {
      "cell_type": "code",
      "metadata": {
        "id": "_SnsU3IId685"
      },
      "source": [
        ""
      ],
      "execution_count": null,
      "outputs": []
    }
  ]
}
